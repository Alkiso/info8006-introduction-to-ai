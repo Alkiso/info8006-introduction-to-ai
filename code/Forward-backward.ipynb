{
 "cells": [
  {
   "cell_type": "code",
   "execution_count": 1,
   "metadata": {
    "collapsed": true
   },
   "outputs": [],
   "source": [
    "import numpy as np"
   ]
  },
  {
   "cell_type": "code",
   "execution_count": 22,
   "metadata": {
    "collapsed": true
   },
   "outputs": [],
   "source": [
    "def normalize(v):\n",
    "    return v / v.sum()\n",
    "\n",
    "def transition(x_t):\n",
    "    # return P(X_t+1|x_t)\n",
    "    if x_t:\n",
    "        return np.array([2./3, 1./3])\n",
    "    else:\n",
    "        return np.array([0.5, 0.5])\n",
    "    \n",
    "def sensor(x_t):\n",
    "    # return P(E_t|x_t)\n",
    "    if x_t:\n",
    "        return np.array([0.8, 0.2])\n",
    "    else:\n",
    "        return np.array([0.5, 0.5])"
   ]
  },
  {
   "cell_type": "code",
   "execution_count": 23,
   "metadata": {
    "collapsed": false
   },
   "outputs": [
    {
     "data": {
      "text/plain": [
       "(array([ 0.66666667,  0.33333333]), array([ 0.5,  0.5]))"
      ]
     },
     "execution_count": 23,
     "metadata": {},
     "output_type": "execute_result"
    }
   ],
   "source": [
    "transition(1), transition(0)"
   ]
  },
  {
   "cell_type": "code",
   "execution_count": 24,
   "metadata": {
    "collapsed": false
   },
   "outputs": [
    {
     "data": {
      "text/plain": [
       "(array([ 0.8,  0.2]), array([ 0.5,  0.5]))"
      ]
     },
     "execution_count": 24,
     "metadata": {},
     "output_type": "execute_result"
    }
   ],
   "source": [
    "sensor(1), sensor(0)"
   ]
  },
  {
   "cell_type": "code",
   "execution_count": 25,
   "metadata": {
    "collapsed": false
   },
   "outputs": [
    {
     "name": "stdout",
     "output_type": "stream",
     "text": [
      "f1 = [ 0.69135802  0.30864198]\n",
      "f2 = [ 0.71896604  0.28103396]\n"
     ]
    }
   ],
   "source": [
    "def forward(e_t1, f):\n",
    "    p_e_t1 = np.array([0., 0])\n",
    "    p_e_t1[0] += sensor(1)[0 if e_t1 else 1]\n",
    "    p_e_t1[1] += sensor(0)[0 if e_t1 else 1]\n",
    "    \n",
    "    s = np.array([0., 0.])\n",
    "    for x_t in [0, 1]:\n",
    "        s += transition(x_t) * (f[0] if x_t else f[1])\n",
    "        \n",
    "    p = np.multiply(p_e_t1, s)\n",
    "    return normalize(p)\n",
    "        \n",
    "f1 = forward(1, np.array([0.5, 0.5]))\n",
    "print(\"f1 =\", f1)\n",
    "f2 = forward(1, f1)\n",
    "print(\"f2 =\", f2)"
   ]
  },
  {
   "cell_type": "code",
   "execution_count": 26,
   "metadata": {
    "collapsed": true
   },
   "outputs": [],
   "source": [
    "def backward(e_k1, b):\n",
    "    s = np.array([0., 0.])\n",
    "    \n",
    "    for x_k1 in [0, 1]:\n",
    "        w = sensor(x_k1)[0 if e_k1 else 1] * (b[0] if x_k1 else b[1])\n",
    "        \n",
    "        p_x_k1 = np.array([0., 0.])\n",
    "        p_x_k1[0] += transition(1)[0 if x_k1 else 1]\n",
    "        p_x_k1[1] += transition(0)[0 if x_k1 else 1]\n",
    "        \n",
    "        s += w * p_x_k1\n",
    "        \n",
    "    return normalize(s)    "
   ]
  },
  {
   "cell_type": "code",
   "execution_count": 27,
   "metadata": {
    "collapsed": false
   },
   "outputs": [
    {
     "name": "stdout",
     "output_type": "stream",
     "text": [
      "b0 = [ 1.  1.]\n"
     ]
    }
   ],
   "source": [
    "b0 = np.array([1.0, 1.0])\n",
    "print(\"b0 =\", b0)"
   ]
  },
  {
   "cell_type": "code",
   "execution_count": 28,
   "metadata": {
    "collapsed": false
   },
   "outputs": [
    {
     "data": {
      "text/plain": [
       "array([ 0.71896604,  0.28103396])"
      ]
     },
     "execution_count": 28,
     "metadata": {},
     "output_type": "execute_result"
    }
   ],
   "source": [
    "normalize(np.multiply(f2, b0))"
   ]
  },
  {
   "cell_type": "code",
   "execution_count": 29,
   "metadata": {
    "collapsed": false
   },
   "outputs": [
    {
     "name": "stdout",
     "output_type": "stream",
     "text": [
      "b1 = [ 0.51851852  0.48148148]\n"
     ]
    }
   ],
   "source": [
    "b1 = backward(1, b0)\n",
    "print(\"b1 =\", b1)"
   ]
  },
  {
   "cell_type": "code",
   "execution_count": 30,
   "metadata": {
    "collapsed": false
   },
   "outputs": [
    {
     "data": {
      "text/plain": [
       "array([ 0.70694319,  0.29305681])"
      ]
     },
     "execution_count": 30,
     "metadata": {},
     "output_type": "execute_result"
    }
   ],
   "source": [
    "normalize(np.multiply(f1, b1))"
   ]
  }
 ],
 "metadata": {
  "kernelspec": {
   "display_name": "Python 3",
   "language": "python",
   "name": "python3"
  },
  "language_info": {
   "codemirror_mode": {
    "name": "ipython",
    "version": 3
   },
   "file_extension": ".py",
   "mimetype": "text/x-python",
   "name": "python",
   "nbconvert_exporter": "python",
   "pygments_lexer": "ipython3",
   "version": "3.4.5"
  }
 },
 "nbformat": 4,
 "nbformat_minor": 0
}
